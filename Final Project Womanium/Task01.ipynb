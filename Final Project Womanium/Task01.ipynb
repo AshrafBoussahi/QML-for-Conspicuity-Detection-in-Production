{
 "cells": [
  {
   "cell_type": "markdown",
   "id": "bca36fbc-4341-4c2f-b6e3-e25238d71690",
   "metadata": {},
   "source": [
    "# The Quantum Computing Journey With Pennylane\n",
    "\n",
    "## Introduction to quantum computing\n",
    "Through the different tutorials in this chapter, I have learned about the notions of the fundamental blocks of quantum computers: **the qubits**\n",
    "Their mathematical representation through **Linear Algebra** using the **Dirac notation**, or **bra-ket notation**. for the  state vector of a qubit  called a **ket**, and for each a ket there is an associated **bra** with it.\n",
    "There is also another important notation which is the Superposition which makes the qubits so much interesting, a qubit in a superposition state is a qubit in a state in between the 2 orthonormal basis states |0> and |1>.\n",
    "\n",
    "\n",
    "We measure the qubits at the end of an algorithm to extract useful information by repeating the execution of the circuits (shots) and then we have a probabilistic distribution of the possible results since the qubit collapses into one of his basis states when measuring it.\n",
    "\n",
    "To manipulate the qubits to map them from one state to another we use Matrices\n",
    "\n",
    "Here are the solutions of the codercices:"
   ]
  },
  {
   "cell_type": "markdown",
   "id": "76abff34-ea80-44dd-8fde-39a3efbccc28",
   "metadata": {},
   "source": [
    "I.1.1"
   ]
  },
  {
   "cell_type": "code",
   "execution_count": null,
   "id": "04eb2b6b-9caa-4529-8ece-f2e7002f3761",
   "metadata": {},
   "outputs": [],
   "source": [
    "# Here are the vector representations of |0> and |1>, for convenience\n",
    "ket_0 = np.array([1, 0])\n",
    "ket_1 = np.array([0, 1])\n",
    "\n",
    "\n",
    "def normalize_state(alpha, beta):\n",
    "    \"\"\"Compute a normalized quantum state given arbitrary amplitudes.\n",
    "\n",
    "    Args:\n",
    "        alpha (complex): The amplitude associated with the |0> state.\n",
    "        beta (complex): The amplitude associated with the |1> state.\n",
    "\n",
    "    Returns:\n",
    "        np.array[complex]: A vector (numpy array) with 2 elements that represents\n",
    "        a normalized quantum state.\n",
    "    \"\"\"\n",
    "\n",
    "    ##################\n",
    "    norm = np.sqrt(np.abs(alpha)**2 + np.abs(beta)**2)\n",
    "    \n",
    "    # Normalize the state vector\n",
    "    normalized_state = np.array([alpha / norm, beta / norm])\n",
    "    \n",
    "    return normalized_state\n",
    "    ##################\n",
    "\n",
    "    # CREATE A VECTOR [a', b'] BASED ON alpha AND beta SUCH THAT |a'|^2 + |b'|^2 = 1\n",
    "\n",
    "    # RETURN A VECTOR\n",
    "    \n"
   ]
  },
  {
   "cell_type": "markdown",
   "id": "24122a05-ba49-4f2c-b8fa-020b8691202a",
   "metadata": {},
   "source": [
    "i.1.2"
   ]
  },
  {
   "cell_type": "code",
   "execution_count": null,
   "id": "4879e77d-03ac-4b9a-95dc-dadbc33c0776",
   "metadata": {},
   "outputs": [],
   "source": [
    "def inner_product(state_1, state_2):\n",
    "    \"\"\"Compute the inner product between two states.\n",
    "\n",
    "    Args:\n",
    "        state_1 (np.array[complex]): A normalized quantum state vector\n",
    "        state_2 (np.array[complex]): A second normalized quantum state vector\n",
    "\n",
    "    Returns:\n",
    "        complex: The value of the inner product <state_1 | state_2>.\n",
    "    \"\"\"\n",
    "\n",
    "    # COMPUTE AND RETURN THE INNER PRODUCT\n",
    "\n",
    "    return np.vdot(state_1, state_2)\n",
    "\n",
    "\n",
    "# Test your results with this code\n",
    "ket_0 = np.array([1, 0])\n",
    "ket_1 = np.array([0, 1])\n",
    "\n",
    "print(f\"<0|0> = {inner_product(ket_0, ket_0)}\")\n",
    "print(f\"<0|1> = {inner_product(ket_0, ket_1)}\")\n",
    "print(f\"<1|0> = {inner_product(ket_1, ket_0)}\")\n",
    "print(f\"<1|1> = {inner_product(ket_1, ket_1)}\")"
   ]
  },
  {
   "cell_type": "markdown",
   "id": "34e92ec6-5dec-4cce-ac8a-700429723603",
   "metadata": {},
   "source": [
    "i.1.3"
   ]
  },
  {
   "cell_type": "code",
   "execution_count": 1,
   "id": "39c85461-d0b8-48e9-ab3c-757f0de653fb",
   "metadata": {},
   "outputs": [],
   "source": [
    "def measure_state(state, num_meas):\n",
    "    \"\"\"Simulate a quantum measurement process.\n",
    "\n",
    "    Args:\n",
    "        state (np.array[complex]): A normalized qubit state vector.\n",
    "        num_meas (int): The number of measurements to take\n",
    "\n",
    "    Returns:\n",
    "        np.array[int]: A set of num_meas samples, 0 or 1, chosen according to the probability\n",
    "        distribution defined by the input state.\n",
    "    \"\"\"\n",
    "\n",
    "    ##################\n",
    "    measurment = np.random.choice([0,1], size = num_meas, p = [np.abs(state[0]**2), np.abs(state[1]**2)])\n",
    "    ##################\n",
    "\n",
    "    # COMPUTE THE MEASUREMENT OUTCOME PROBABILITIES\n",
    "\n",
    "    # RETURN A LIST OF SAMPLE MEASUREMENT OUTCOMES\n",
    "\n",
    "    return measurment"
   ]
  },
  {
   "cell_type": "code",
   "execution_count": null,
   "id": "a6897c2f-890f-45c7-ae90-43310940f072",
   "metadata": {},
   "outputs": [],
   "source": [
    "U = np.array([[1, 1], [1, -1]]) / np.sqrt(2)\n",
    "\n",
    "\n",
    "def apply_u(state):\n",
    "    \"\"\"Apply a quantum operation.\n",
    "\n",
    "    Args:\n",
    "        state (np.array[complex]): A normalized quantum state vector.\n",
    "\n",
    "    Returns:\n",
    "        np.array[complex]: The output state after applying U.\n",
    "    \"\"\"\n",
    "  \n",
    "            \n",
    "    ##################\n",
    "\n",
    "    # APPLY U TO THE INPUT STATE AND RETURN THE NEW STATE\n",
    "    return np.dot(U, state)\n"
   ]
  },
  {
   "attachments": {
    "a6d832ba-6924-44f0-8940-65e02306e136.png": {
     "image/png": "[encoded data removed]"
    }
   },
   "cell_type": "markdown",
   "id": "c34e1708-267c-47f3-a969-d81d555503c8",
   "metadata": {},
   "source": [
    "## Circuits\n",
    "\n",
    "Quantum circuits are a way to visually depict the sequence of operations that are performed on qubits\n",
    "A circuit starts with a collection of wires that represent a set of qubits.\n",
    "A typical choice is for all qubits to start in state |0>\n",
    "Operations on qubits are often called gates.\n",
    "The number of gates, and the type of gates, are useful metrics. However, one particularly important metric is that of circuit depth\n",
    "The final step of any quantum computation is a measurement of one or more of the qubits\n",
    "\n",
    "Example of quantum circuit:\n",
    "\n",
    "![Example-of-a-5-qubit-quantum-circuit-from-18-with-each-horizontal-line-representing.png](attachment:a6d832ba-6924-44f0-8940-65e02306e136.png)\n",
    "\n",
    "Credit: [Source](Compiler Design for Distributed Quantum Computing - Scientific Figure on ResearchGate. Available from: https://www.researchgate.net/figure/Example-of-a-5-qubit-quantum-circuit-from-18-with-each-horizontal-line-representing_fig1_348696816 [accessed 10 Aug 2024])"
   ]
  },
  {
   "cell_type": "markdown",
   "id": "fa26e6e9-bed8-4aa4-a360-4c31b2d7c16c",
   "metadata": {},
   "source": [
    "i.2.1"
   ]
  },
  {
   "cell_type": "code",
   "execution_count": null,
   "id": "d1ccb3b8-7880-474c-a509-03ef8017abf7",
   "metadata": {},
   "outputs": [],
   "source": [
    "def my_circuit(theta, phi):\n",
    "    ##################\n",
    "    # YOUR CODE HERE #\n",
    "    ##################\n",
    "\n",
    "    # REORDER THESE 5 GATES TO MATCH THE CIRCUIT IN THE PICTURE\n",
    "\n",
    "    qml.CNOT(wires=[0, 1])\n",
    "    qml.RX(theta, wires=2)\n",
    "    \n",
    "    qml.Hadamard(wires=0)\n",
    "    qml.CNOT(wires=[2, 0])\n",
    "    qml.RY(phi, wires=1)\n",
    "\n",
    "    # This is the measurement; we return the probabilities of all possible output states\n",
    "    # You'll learn more about what types of measurements are available in a later node\n",
    "    return qml.probs(wires=[0, 1, 2])"
   ]
  },
  {
   "cell_type": "markdown",
   "id": "10f6ce20-e28d-4689-bd66-c8e0afca338f",
   "metadata": {},
   "source": [
    "i.2.2"
   ]
  },
  {
   "cell_type": "code",
   "execution_count": null,
   "id": "2d35a237-43b6-4e45-91a1-3c9da4faf4a5",
   "metadata": {},
   "outputs": [],
   "source": [
    "# This creates a device with three wires on which PennyLane can run computations\n",
    "dev = qml.device(\"default.qubit\", wires=3)\n",
    "\n",
    "\n",
    "def my_circuit(theta, phi, omega):\n",
    "\n",
    "    ##################\n",
    "    qml.RX(theta, wires=0)\n",
    "    qml.RY(phi, wires=1)\n",
    "    qml.RZ(omega, wires=2)\n",
    "\n",
    "    qml.CNOT(wires=[0, 1])\n",
    "    qml.CNOT(wires=[1, 2])\n",
    "    qml.CNOT(wires=[2, 0])\n",
    "    ##################\n",
    "\n",
    "    # IMPLEMENT THE CIRCUIT BY ADDING THE GATES\n",
    "\n",
    "    # Here are two examples, so you can see the format:\n",
    "    # qml.CNOT(wires=[0, 1])\n",
    "    # qml.RX(theta, wires=0)\n",
    "\n",
    "    return qml.probs(wires=[0, 1, 2])\n",
    "\n",
    "\n",
    "# This creates a QNode, binding the function and device\n",
    "my_qnode = qml.QNode(my_circuit, dev)\n",
    "\n",
    "# We set up some values for the input parameters\n",
    "theta, phi, omega = 0.1, 0.2, 0.3\n",
    "\n",
    "# Now we can execute the QNode by calling it like we would a regular function\n",
    "my_qnode(theta, phi, omega)"
   ]
  },
  {
   "cell_type": "markdown",
   "id": "3edb9e62-06fe-4e3d-ab60-401c0bf7e4e5",
   "metadata": {},
   "source": [
    "i.2.3"
   ]
  },
  {
   "cell_type": "code",
   "execution_count": null,
   "id": "a133bbad-9049-46cc-9f55-ec7c4e042f01",
   "metadata": {},
   "outputs": [],
   "source": [
    "dev = qml.device(\"default.qubit\", wires=3)\n",
    "\n",
    "##################\n",
    "# YOUR CODE HERE #\n",
    "##################\n",
    "\n",
    "# DECORATE THE FUNCTION BELOW TO TURN IT INTO A QNODE\n",
    "\n",
    "@qml.qnode(dev)\n",
    "def my_circuit(theta, phi, omega):\n",
    "    qml.RX(theta, wires=0)\n",
    "    qml.RY(phi, wires=1)\n",
    "    qml.RZ(omega, wires=2)\n",
    "    qml.CNOT(wires=[0, 1])\n",
    "    qml.CNOT(wires=[1, 2])\n",
    "    qml.CNOT(wires=[2, 0])\n",
    "    return qml.probs(wires=[0, 1, 2])\n",
    "\n",
    "\n",
    "theta, phi, omega = 0.1, 0.2, 0.3\n",
    "\n",
    "##################\n",
    "my_circuit(theta, phi, omega)\n",
    "##################\n",
    "\n",
    "# RUN THE QNODE WITH THE PROVIDED PARAMETERS"
   ]
  },
  {
   "cell_type": "markdown",
   "id": "d4a55ef4-775f-4532-9259-2df9d0f9861b",
   "metadata": {},
   "source": [
    "i.2.4"
   ]
  },
  {
   "cell_type": "code",
   "execution_count": null,
   "id": "5e2b8c63-898a-4af5-ac6a-1e9ad3d6f454",
   "metadata": {},
   "outputs": [],
   "source": [
    "dev = qml.device(\"default.qubit\", wires=3)\n",
    "\n",
    "\n",
    "@qml.qnode(dev)\n",
    "def my_circuit(theta, phi, omega):\n",
    "    qml.RX(theta, wires=0)\n",
    "    qml.RY(phi, wires=1)\n",
    "    qml.RZ(omega, wires=2)\n",
    "    qml.CNOT(wires=[0, 1])\n",
    "    qml.CNOT(wires=[1, 2])\n",
    "    qml.CNOT(wires=[2, 0])\n",
    "    return qml.probs(wires=[0, 1, 2])\n",
    "\n",
    "\n",
    "##################\n",
    "# YOUR CODE HERE #\n",
    "##################\n",
    "\n",
    "# FILL IN THE"
   ]
  },
  {
   "cell_type": "markdown",
   "id": "319840ff-dd61-499a-9bb2-930cb861d89a",
   "metadata": {},
   "source": [
    "## Unitary Matrices\n",
    "\n",
    "A complex-valued matrix $U$ is called a **unitary matrix** if it satisfies the following condition:\n",
    "\n",
    "\n",
    "$U^\\dagger U = U U^\\dagger = I$\n",
    "\n",
    "\n",
    "where:\n",
    "$U^\\dagger  denotes the conjugate transpose (or adjoint) of U .\n",
    "\n",
    "In other words, a matrix $U$ is unitary if its inverse is equal to its conjugate transpose:\n",
    "\n",
    "$\n",
    "U^{-1} = U^\\dagger\n",
    "$"
   ]
  },
  {
   "cell_type": "markdown",
   "id": "62cc44d3-045e-460d-a7ad-18fa47cdf805",
   "metadata": {},
   "source": [
    "i.3.1"
   ]
  },
  {
   "cell_type": "code",
   "execution_count": null,
   "id": "0aa0e70f-6a1b-4881-9136-96539cbe11fb",
   "metadata": {},
   "outputs": [],
   "source": [
    "dev = qml.device(\"default.qubit\", wires=1)\n",
    "\n",
    "U = np.array([[1, 1], [1, -1]]) / np.sqrt(2)\n",
    "\n",
    "\n",
    "@qml.qnode(dev)\n",
    "def apply_u():\n",
    "\n",
    "    ##################\n",
    "    qml.QubitUnitary(U, wires=0)\n",
    "    ##################\n",
    "\n",
    "    # USE QubitUnitary TO APPLY U TO THE QUBIT\n",
    "\n",
    "    # Return the state\n",
    "    return qml.state()"
   ]
  },
  {
   "cell_type": "markdown",
   "id": "00bcb5e0-5db1-495b-ba74-0d8bac4b3afd",
   "metadata": {},
   "source": [
    "i.3.2"
   ]
  },
  {
   "cell_type": "code",
   "execution_count": null,
   "id": "bec9d105-1ac8-4639-aad0-09be9cddaae6",
   "metadata": {},
   "outputs": [],
   "source": [
    "dev = qml.device(\"default.qubit\", wires=1)\n",
    "\n",
    "\n",
    "@qml.qnode(dev)\n",
    "def apply_u_as_rot(phi, theta, omega):\n",
    "\n",
    "    ##################\n",
    "    qml.Rot(phi, theta, omega, wires=0)\n",
    "    ##################\n",
    "\n",
    "    # APPLY A ROT GATE USING THE PROVIDED INPUT PARAMETERS\n",
    "\n",
    "    # RETURN THE QUANTUM STATE VECTOR\n",
    "\n",
    "    return qml.state()\n"
   ]
  },
  {
   "cell_type": "markdown",
   "id": "166f58cf-112a-4b34-bb78-d5e737bc4d16",
   "metadata": {},
   "source": [
    "## Single Qubit Gates\n",
    "\n",
    "the **Pauli X** gate also known as the bit flip operation, or NOT gate, due to its similarity to the Boolean NOT operation. From its action on the basis states |0> and |1>\n",
    "\n",
    "the **Hadamard gate**. It is typically denoted by $H$ and represented as such in a circuit diagram:\r\n",
    "\r\n",
    "i.4.1\n",
    "\n"
   ]
  },
  {
   "cell_type": "code",
   "execution_count": null,
   "id": "9d0c1597-b4ee-4de1-9533-f3175760d08c",
   "metadata": {},
   "outputs": [],
   "source": [
    "dev = qml.device(\"default.qubit\", wires=1)\n",
    "\n",
    "U = np.array([[1, 1], [1, -1]]) / np.sqrt(2)\n",
    "\n",
    "\n",
    "@qml.qnode(dev)\n",
    "def varied_initial_state(state):\n",
    "    \"\"\"Complete the function such that we can apply the operation U to\n",
    "    either |0> or |1> depending on the input argument flag.\n",
    "\n",
    "    Args:\n",
    "        state (int): Either 0 or 1. If 1, prepare the qubit in state |1>,\n",
    "            otherwise, leave it in state 0.\n",
    "\n",
    "    Returns:\n",
    "        np.array[complex]: The state of the qubit after the operations.\n",
    "    \"\"\"\n",
    "    ##################\n",
    "    if state == 1 :\n",
    "        qml.PauliX(wires = 0)\n",
    "\n",
    "    qml.QubitUnitary(U, wires = 0)\n",
    "    ##################\n",
    "\n",
    "    # KEEP THE QUBIT IN |0> OR CHANGE IT TO |1> DEPENDING ON THE state PARAMETER\n",
    "\n",
    "    # APPLY U TO THE STATE\n",
    "\n",
    "    return qml.state()"
   ]
  },
  {
   "cell_type": "markdown",
   "id": "b59c9b50-0e0b-4824-83df-5f1445d857a0",
   "metadata": {},
   "source": [
    "i.4.2"
   ]
  },
  {
   "cell_type": "code",
   "execution_count": null,
   "id": "a9faf206-588d-4c0a-9a7f-09529f39ddc8",
   "metadata": {},
   "outputs": [],
   "source": [
    "dev = qml.device(\"default.qubit\", wires=1)\n",
    "\n",
    "\n",
    "@qml.qnode(dev)\n",
    "def apply_hadamard():\n",
    "    ##################\n",
    "    qml.Hadamard(wires = 0)\n",
    "    ##################\n",
    "\n",
    "    # APPLY THE HADAMARD GATE\n",
    "\n",
    "    # RETURN THE STATE\n",
    "    return qml.state()"
   ]
  },
  {
   "cell_type": "markdown",
   "id": "8ec3078f-5afb-403c-98d4-f3d61ba5164e",
   "metadata": {},
   "source": [
    "i.4.3"
   ]
  },
  {
   "cell_type": "code",
   "execution_count": null,
   "id": "5aafec87-20d1-4a6a-8f1f-b6d2faf15416",
   "metadata": {},
   "outputs": [],
   "source": [
    "dev = qml.device(\"default.qubit\", wires=1)\n",
    "\n",
    "\n",
    "@qml.qnode(dev)\n",
    "def apply_hadamard_to_state(state):\n",
    "    \"\"\"Complete the function such that we can apply the Hadamard to\n",
    "    either |0> or |1> depending on the input argument flag.\n",
    "\n",
    "    Args:\n",
    "        state (int): Either 0 or 1. If 1, prepare the qubit in state |1>,\n",
    "            otherwise, leave it in state 0.\n",
    "\n",
    "    Returns:\n",
    "        np.array[complex]: The state of the qubit after the operations.\n",
    "    \"\"\"\n",
    "    ##################\n",
    "    if state == 1 :\n",
    "        qml.PauliX(wires = 0)\n",
    "\n",
    "\n",
    "    qml.Hadamard(wires = 0)\n",
    "    ##################\n",
    "\n",
    "    # KEEP THE QUBIT IN |0> OR CHANGE IT TO |1> DEPENDING ON state\n",
    "\n",
    "    # APPLY THE HADAMARD\n",
    "\n",
    "    # RETURN THE STATE\n",
    "\n",
    "    return qml.state()\n",
    "\n",
    "\n",
    "print(apply_hadamard_to_state(0))\n",
    "print(apply_hadamard_to_state(1))"
   ]
  },
  {
   "cell_type": "markdown",
   "id": "cdde1af1-54c3-43de-ab17-32c2eebfc884",
   "metadata": {},
   "source": [
    "i.4.4"
   ]
  },
  {
   "cell_type": "code",
   "execution_count": null,
   "id": "5fb7e833-8ff6-42f7-ad83-55af2280300b",
   "metadata": {},
   "outputs": [],
   "source": [
    "dev = qml.device(\"default.qubit\", wires=1)\n",
    "\n",
    "\n",
    "@qml.qnode(dev)\n",
    "def apply_hxh(state):\n",
    "    if state == 1 :\n",
    "        qml.PauliX(wires = 0)\n",
    "\n",
    "    qml.Hadamard(wires = 0)\n",
    "    qml.PauliX(wires = 0)\n",
    "    qml.Hadamard(wires = 0)\n",
    "    \n",
    "    return qml.state()\n",
    "# Print your results\n",
    "print(apply_hxh(0))\n",
    "print(apply_hxh(1))"
   ]
  },
  {
   "cell_type": "markdown",
   "id": "f0c604d4-24bb-400d-bccd-37e118a80403",
   "metadata": {},
   "source": [
    "the **Pauli Z** gate (denoted Z) flips the phase\n",
    "\n",
    "The RZ gate, or \"**Z rotation**\" is a quantum gate that modifies the relative phase between |0> and |1> in a more general way than the Pauli Z gate does, IT is a parametric gate, meaning that its action depends on a **parameter**  (an angle in radians)"
   ]
  },
  {
   "cell_type": "markdown",
   "id": "89cf31be-787b-43a7-aac7-ab401e9c4a8e",
   "metadata": {},
   "source": [
    "i.5.1"
   ]
  },
  {
   "cell_type": "code",
   "execution_count": null,
   "id": "09f4813f-60cc-4925-bd7d-0d511b9a78bb",
   "metadata": {},
   "outputs": [],
   "source": [
    "dev = qml.device(\"default.qubit\", wires=1)\n",
    "\n",
    "\n",
    "@qml.qnode(dev)\n",
    "def apply_z_to_plus():\n",
    "    \"\"\"Write a circuit that applies PauliZ to the |+> state and returns\n",
    "    the state.\n",
    "\n",
    "    Returns:\n",
    "        np.array[complex]: The state of the qubit after the operations.\n",
    "    \"\"\"\n",
    "\n",
    "    ##################\n",
    "    # YOUR CODE HERE #\n",
    "    ##################\n",
    "\n",
    "    # CREATE THE |+> STATE\n",
    "    qml.Hadamard(wires = 0)\n",
    "    \n",
    "    # APPLY PAULI Z\n",
    "    qml.PauliZ(wires=0)\n",
    "    # RETURN THE STATE\n",
    "    return qml.state()\n",
    "\n",
    "\n",
    "print(apply_z_to_plus())"
   ]
  },
  {
   "cell_type": "markdown",
   "id": "58838ba0-951f-4ccc-84cf-47ded5965136",
   "metadata": {},
   "source": [
    "i.5.2"
   ]
  },
  {
   "cell_type": "code",
   "execution_count": null,
   "id": "00b18cba-b3da-4e99-b1df-f2721f393fcc",
   "metadata": {},
   "outputs": [],
   "source": [
    "dev = qml.device(\"default.qubit\", wires=1)\n",
    "\n",
    "\n",
    "@qml.qnode(dev)\n",
    "def fake_z():\n",
    "    \"\"\"Use RZ to produce the same action as Pauli Z on the |+> state.\n",
    "\n",
    "    Returns:\n",
    "        np.array[complex]: The state of the qubit after the operations.\n",
    "    \"\"\"\n",
    "\n",
    "    ##################\n",
    "    # YOUR CODE HERE #\n",
    "    ##################\n",
    "\n",
    "    # CREATE THE |+> STATE\n",
    "    qml.Hadamard(wires = 0)\n",
    "    qml.RZ(np.pi, wires = 0)\n",
    "    # APPLY RZ\n",
    "\n",
    "    # RETURN THE STATE\n",
    "    return qml.state()"
   ]
  },
  {
   "attachments": {
    "e4938e08-32e5-4dfa-8967-3c00ea5ea065.jpg": {
     "image/jpeg": "[encoded data removed]"
    }
   },
   "cell_type": "markdown",
   "id": "0714567d-50a0-46a8-afa4-0a0177468212",
   "metadata": {},
   "source": [
    "there is a visualization tool that can be helpful for understanding the structure and behaviour of single-qubit states and operations: the **Bloch sphere.**\n",
    "\n",
    "![download.jpg](attachment:e4938e08-32e5-4dfa-8967-3c00ea5ea065.jpg)\n",
    "\n",
    "\n",
    "RX and RY perform parametric rotations on their respective axe\n",
    "\n",
    "i.6.1"
   ]
  },
  {
   "cell_type": "code",
   "execution_count": null,
   "id": "8c7e2dbf-c71e-47e3-b4ab-9c2a0af59b12",
   "metadata": {},
   "outputs": [],
   "source": [
    "dev = qml.device(\"default.qubit\", wires=1)\n",
    "\n",
    "\n",
    "@qml.qnode(dev)\n",
    "def apply_rx_pi(state):\n",
    "    \"\"\"Apply an RX gate with an angle of \\pi to a particular basis state.\n",
    "\n",
    "    Args:\n",
    "        state (int): Either 0 or 1. If 1, initialize the qubit to state |1>\n",
    "            before applying other operations.\n",
    "\n",
    "    Returns:\n",
    "        np.array[complex]: The state of the qubit after the operations.\n",
    "    \"\"\"\n",
    "    if state == 1:\n",
    "        qml.PauliX(wires=0)\n",
    "\n",
    "    ##################\n",
    "    qml.RX(np.pi, wires = 0)\n",
    "    ##################\n",
    "\n",
    "    # APPLY RX(pi) AND RETURN THE STATE\n",
    "\n",
    "    return qml.state()\n",
    "\n",
    "\n",
    "print(apply_rx_pi(0))\n",
    "print(apply_rx_pi(1))"
   ]
  },
  {
   "cell_type": "markdown",
   "id": "89b7b5cb-cb49-4ff4-ace6-f0def1d7a541",
   "metadata": {},
   "source": [
    "i.6.2"
   ]
  },
  {
   "cell_type": "code",
   "execution_count": null,
   "id": "5e260748-f8ab-470d-ada9-80d165e4e4bc",
   "metadata": {},
   "outputs": [],
   "source": [
    "dev = qml.device(\"default.qubit\", wires=1)\n",
    "\n",
    "\n",
    "@qml.qnode(dev)\n",
    "def apply_rx(theta, state):\n",
    "    \"\"\"Apply an RX gate with an angle of theta to a particular basis state.\n",
    "\n",
    "    Args:\n",
    "        theta (float): A rotation angle.\n",
    "        state (int): Either 0 or 1. If 1, initialize the qubit to state |1>\n",
    "            before applying other operations.\n",
    "\n",
    "    Returns:\n",
    "        np.array[complex]: The state of the qubit after the operations.\n",
    "    \"\"\"\n",
    "    if state == 1:\n",
    "        qml.PauliX(wires=0)\n",
    "\n",
    "    ##################\n",
    "    qml.RX(theta, wires = 0)\n",
    "    ##################\n",
    "\n",
    "    # APPLY RX(theta) AND RETURN THE STATE\n",
    "\n",
    "    return qml.state()\n",
    "\n",
    "\n",
    "# Code for plotting\n",
    "angles = np.linspace(0, 4 * np.pi, 200)\n",
    "output_states = np.array([apply_rx(t, 0) for t in angles])\n",
    "\n",
    "plot = plotter(angles, output_states)"
   ]
  },
  {
   "cell_type": "markdown",
   "id": "9d12c200-7618-49e1-b4fb-fd894447045f",
   "metadata": {},
   "source": [
    "i.6.3"
   ]
  },
  {
   "cell_type": "code",
   "execution_count": null,
   "id": "e3f17e92-d9e7-470f-9794-d1302a95fd41",
   "metadata": {},
   "outputs": [],
   "source": [
    "dev = qml.device(\"default.qubit\", wires=1)\n",
    "\n",
    "\n",
    "@qml.qnode(dev)\n",
    "def apply_ry(theta, state):\n",
    "    \"\"\"Apply an RY gate with an angle of theta to a particular basis state.\n",
    "\n",
    "    Args:\n",
    "        theta (float): A rotation angle.\n",
    "        state (int): Either 0 or 1. If 1, initialize the qubit to state |1>\n",
    "            before applying other operations.\n",
    "\n",
    "    Returns:\n",
    "        np.array[complex]: The state of the qubit after the operations.\n",
    "    \"\"\"\n",
    "    if state == 1:\n",
    "        qml.PauliX(wires=0)\n",
    "\n",
    "    ##################\n",
    "    qml.RY(theta, wires = 0)\n",
    "    ##################\n",
    "\n",
    "    # APPLY RY(theta) AND RETURN THE STATE\n",
    "\n",
    "    return qml.state()\n",
    "\n",
    "\n",
    "# Code for plotting\n",
    "angles = np.linspace(0, 4 * np.pi, 200)\n",
    "output_states = np.array([apply_ry(t, 0) for t in angles])\n",
    "\n",
    "plot = plotter(angles, output_states)"
   ]
  },
  {
   "attachments": {
    "a9ac5305-4d73-4b38-84eb-b83e4a6b96b0.png": {
     "image/png": "[encoded data removed]"
    }
   },
   "cell_type": "markdown",
   "id": "93320181-56d5-4602-b863-872c28fa7734",
   "metadata": {},
   "source": [
    "Here are the most used gates, their sign, and their transformation matrix\n",
    "\n",
    "\n",
    "![Table.png](attachment:a9ac5305-4d73-4b38-84eb-b83e4a6b96b0.png)"
   ]
  },
  {
   "cell_type": "markdown",
   "id": "8466295d-8f98-4de2-b023-e0bef1a57013",
   "metadata": {},
   "source": [
    "i.9.1"
   ]
  },
  {
   "cell_type": "code",
   "execution_count": null,
   "id": "ad65cc65-be2d-4d6b-8b5a-8c3ca224f990",
   "metadata": {},
   "outputs": [],
   "source": [
    "dev = qml.device(\"default.qubit\", wires=1)\n",
    "\n",
    "\n",
    "@qml.qnode(dev)\n",
    "def apply_h_and_measure(state):\n",
    "    \"\"\"Complete the function such that we apply the Hadamard gate\n",
    "    and measure in the computational basis.\n",
    "\n",
    "    Args:\n",
    "        state (int): Either 0 or 1. If 1, prepare the qubit in state |1>,\n",
    "            otherwise leave it in state 0.\n",
    "\n",
    "    Returns:\n",
    "        np.array[float]: The measurement outcome probabilities.\n",
    "    \"\"\"\n",
    "    if state == 1:\n",
    "        qml.PauliX(wires=0)\n",
    "    qml.Hadamard(wires=0)\n",
    "    ##################\n",
    "    # YOUR CODE HERE #\n",
    "    ##################\n",
    "\n",
    "    # APPLY HADAMARD AND MEASURE\n",
    "\n",
    "    return qml.probs(wires=0)\n",
    "\n",
    "\n",
    "print(apply_h_and_measure(0))\n",
    "print(apply_h_and_measure(1))"
   ]
  },
  {
   "attachments": {
    "e514f99a-7f26-41e4-87c5-bf97faf41e31.png": {
     "image/png": "[encoded data removed]"
    }
   },
   "cell_type": "markdown",
   "id": "7fe420aa-cf93-4691-8155-53cb328d5e04",
   "metadata": {},
   "source": [
    "## Multi-Qubit Systems\n",
    "\n",
    "The multi-qubit computational basis is the set of multi-qubit states containing all possible combinations of |0> and |1>  For example, for the 2-qubit case, we have  |00>|01>|10>|11>\n",
    "\n",
    "\n",
    "## Entanglment\n",
    "\n",
    "the controlled-NOT, or CNOT gate is a two-qubit gate that performs an operation (specifically, a Pauli  or \"NOT\" gate) on one qubit depending on the state of another.\n",
    "It applies the gate in the wire only if the second qubit is in a specific state\n",
    "\n",
    "![Matrix-representation-and-quantum-circuit-of-CNOT-gate.png](attachment:e514f99a-7f26-41e4-87c5-bf97faf41e31.png)\n",
    "\n",
    "Entanglement can be helpful to know the state of the whole system only by looking at or measuring one qubit\n",
    "\n",
    "The **controlled-Z** gate is similar in spirit to the controlled-NOT gate. The difference is that rather than applying an X controlled on a qubits state, we apply a Z\n",
    "\n",
    "The **SWAP gate** is exactly what it sounds like: it exchanges the state of two qubits\n",
    "\n",
    "we could make controlled operations with any number of qubits. By far the most common such gate is the **Toffoli gate**"
   ]
  }
 ],
 "metadata": {
  "kernelspec": {
   "display_name": "Python 3 (ipykernel)",
   "language": "python",
   "name": "python3"
  },
  "language_info": {
   "codemirror_mode": {
    "name": "ipython",
    "version": 3
   },
   "file_extension": ".py",
   "mimetype": "text/x-python",
   "name": "python",
   "nbconvert_exporter": "python",
   "pygments_lexer": "ipython3",
   "version": "3.11.7"
  }
 },
 "nbformat": 4,
 "nbformat_minor": 5
}
